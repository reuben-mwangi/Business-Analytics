{
  "nbformat": 4,
  "nbformat_minor": 0,
  "metadata": {
    "colab": {
      "private_outputs": true,
      "provenance": [],
      "authorship_tag": "ABX9TyNwzIsU0kx1Eam0Xt1D8Y5G",
      "include_colab_link": true
    },
    "kernelspec": {
      "name": "python3",
      "display_name": "Python 3"
    },
    "language_info": {
      "name": "python"
    }
  },
  "cells": [
    {
      "cell_type": "markdown",
      "metadata": {
        "id": "view-in-github",
        "colab_type": "text"
      },
      "source": [
        "<a href=\"https://colab.research.google.com/github/reuben-mwangi/Business-Analytics/blob/main/Weather_Prediction.ipynb\" target=\"_parent\"><img src=\"https://colab.research.google.com/assets/colab-badge.svg\" alt=\"Open In Colab\"/></a>"
      ]
    },
    {
      "cell_type": "markdown",
      "source": [
        "#Simple exploratory data analysis"
      ],
      "metadata": {
        "id": "UfXNk8zvg06d"
      }
    },
    {
      "cell_type": "code",
      "execution_count": null,
      "metadata": {
        "id": "MIUnonkIcu6a"
      },
      "outputs": [],
      "source": [
        "import pandas as pd"
      ]
    },
    {
      "cell_type": "code",
      "source": [
        "wd=pd.read_csv(\"/content/weather.csv\")"
      ],
      "metadata": {
        "id": "WiZW3s3Ae5Hf"
      },
      "execution_count": null,
      "outputs": []
    },
    {
      "cell_type": "code",
      "source": [
        "wd.head()"
      ],
      "metadata": {
        "id": "8pOF-8W_fPvq"
      },
      "execution_count": null,
      "outputs": []
    },
    {
      "cell_type": "code",
      "source": [
        "pwd"
      ],
      "metadata": {
        "id": "FkXBsfqTfSmg"
      },
      "execution_count": null,
      "outputs": []
    },
    {
      "cell_type": "code",
      "source": [
        "wd.columns"
      ],
      "metadata": {
        "id": "FYtEGp3UfWJg"
      },
      "execution_count": null,
      "outputs": []
    },
    {
      "cell_type": "code",
      "source": [
        "type(wd)"
      ],
      "metadata": {
        "id": "BIsP8N0ZfZeZ"
      },
      "execution_count": null,
      "outputs": []
    },
    {
      "cell_type": "code",
      "source": [
        "wd.head(10)"
      ],
      "metadata": {
        "id": "4By0_4skfaok"
      },
      "execution_count": null,
      "outputs": []
    },
    {
      "cell_type": "code",
      "source": [
        "wd.columns[6]"
      ],
      "metadata": {
        "id": "sfXajkLFfdcJ"
      },
      "execution_count": null,
      "outputs": []
    },
    {
      "cell_type": "code",
      "source": [
        "wd.columns[9]"
      ],
      "metadata": {
        "id": "yvlmqMxefn9W"
      },
      "execution_count": null,
      "outputs": []
    },
    {
      "cell_type": "code",
      "source": [
        "city =wd[\"Station.City\"]"
      ],
      "metadata": {
        "id": "1I9xo8rtfut3"
      },
      "execution_count": null,
      "outputs": []
    },
    {
      "cell_type": "code",
      "source": [
        "city.head(10)"
      ],
      "metadata": {
        "id": "RSHO3U0Kf4WE"
      },
      "execution_count": null,
      "outputs": []
    },
    {
      "cell_type": "code",
      "source": [
        "city =wd[[\"Station.City\",\"Station.State\"]]"
      ],
      "metadata": {
        "id": "Npt4-gNdf6xA"
      },
      "execution_count": null,
      "outputs": []
    },
    {
      "cell_type": "code",
      "source": [
        "city.head(10)"
      ],
      "metadata": {
        "id": "fxqNQgu8gMVz"
      },
      "execution_count": null,
      "outputs": []
    },
    {
      "cell_type": "code",
      "source": [
        "wd.shape"
      ],
      "metadata": {
        "id": "LixZ5I3sgYDz"
      },
      "execution_count": null,
      "outputs": []
    },
    {
      "cell_type": "code",
      "source": [
        "wd.describe"
      ],
      "metadata": {
        "id": "VsctL69ygZ6N"
      },
      "execution_count": null,
      "outputs": []
    },
    {
      "cell_type": "code",
      "source": [
        "type(city)"
      ],
      "metadata": {
        "id": "_L13ZG8qgmg_"
      },
      "execution_count": null,
      "outputs": []
    },
    {
      "cell_type": "code",
      "source": [
        "wd.tail()"
      ],
      "metadata": {
        "id": "w3YRafSigycb"
      },
      "execution_count": null,
      "outputs": []
    }
  ]
}